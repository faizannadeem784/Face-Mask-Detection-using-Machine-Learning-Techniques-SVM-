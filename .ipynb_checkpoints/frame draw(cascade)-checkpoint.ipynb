{
 "cells": [
  {
   "cell_type": "code",
   "execution_count": 1,
   "id": "3978457e-5166-4630-9309-d0506f3ff0c3",
   "metadata": {},
   "outputs": [],
   "source": [
    "import cv2\n",
    "img = cv2.imread('new.jpg')"
   ]
  },
  {
   "cell_type": "code",
   "execution_count": 2,
   "id": "5708bbc0-a043-49aa-8188-2a89d3859dd3",
   "metadata": {},
   "outputs": [],
   "source": [
    "while True:\n",
    "    cv2.imshow('result',img)\n",
    "#27 ascii for esc\n",
    "    if cv2.waitKey(2) == 27:\n",
    "        break\n",
    "cv2.destroyAllWindows()        "
   ]
  },
  {
   "cell_type": "code",
   "execution_count": 3,
   "id": "f7174ab1-a28e-4430-8742-fd4c13d64e6a",
   "metadata": {},
   "outputs": [],
   "source": [
    "haar_data = cv2.CascadeClassifier('data.xml')"
   ]
  },
  {
   "cell_type": "code",
   "execution_count": 4,
   "id": "cc8965a6-4a92-4065-9a70-9b91ec9decd2",
   "metadata": {},
   "outputs": [
    {
     "data": {
      "text/plain": [
       "array([[ 76,  23,  28,  28],\n",
       "       [140,  26,  26,  26],\n",
       "       [200,  26,  24,  24],\n",
       "       [109,  38,  26,  26],\n",
       "       [ 41,  44,  25,  25],\n",
       "       [171,  44,  25,  25]])"
      ]
     },
     "execution_count": 4,
     "metadata": {},
     "output_type": "execute_result"
    }
   ],
   "source": [
    "#it is used to draw and find window frame and search features e.g chehra dhund rha hai\n",
    "haar_data.detectMultiScale(img)"
   ]
  },
  {
   "cell_type": "code",
   "execution_count": 5,
   "id": "13ccbcef-a8ff-4c82-8f63-93c6459160de",
   "metadata": {},
   "outputs": [],
   "source": [
    "#build a rectangle on the face"
   ]
  },
  {
   "cell_type": "code",
   "execution_count": 7,
   "id": "cc1391e2-267a-4c9e-afad-46fabe72e328",
   "metadata": {},
   "outputs": [],
   "source": [
    "while True:\n",
    "    faces=haar_data.detectMultiScale(img)\n",
    "    for x,y,w,h in faces:\n",
    "        #                           width+hei    color     border size\n",
    "        cv2.rectangle(img, (x,y), (x+w, y+h), (255,0,255), 4)\n",
    "    cv2.imshow('result',img)\n",
    "#27 ascii for esc\n",
    "    if cv2.waitKey(2) == 27:\n",
    "        break\n",
    "cv2.destroyAllWindows()        "
   ]
  },
  {
   "cell_type": "code",
   "execution_count": null,
   "id": "ac54f011-66e1-4505-95c2-8389258eff47",
   "metadata": {},
   "outputs": [],
   "source": []
  }
 ],
 "metadata": {
  "kernelspec": {
   "display_name": "Python 3 (ipykernel)",
   "language": "python",
   "name": "python3"
  },
  "language_info": {
   "codemirror_mode": {
    "name": "ipython",
    "version": 3
   },
   "file_extension": ".py",
   "mimetype": "text/x-python",
   "name": "python",
   "nbconvert_exporter": "python",
   "pygments_lexer": "ipython3",
   "version": "3.11.5"
  }
 },
 "nbformat": 4,
 "nbformat_minor": 5
}
